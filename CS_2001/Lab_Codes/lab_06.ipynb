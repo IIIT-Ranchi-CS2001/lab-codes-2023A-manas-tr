{
 "cells": [
  {
   "cell_type": "code",
   "execution_count": 1,
   "id": "d9c1e6c7-1411-4d13-a56e-7b8bf14ae251",
   "metadata": {},
   "outputs": [],
   "source": [
    "# Manas Tripathi"
   ]
  },
  {
   "cell_type": "code",
   "execution_count": 1,
   "id": "3dbe28ac",
   "metadata": {},
   "outputs": [
    {
     "data": {
      "text/plain": [
       "6.4031242374328485"
      ]
     },
     "execution_count": 1,
     "metadata": {},
     "output_type": "execute_result"
    }
   ],
   "source": [
    "import math\n",
    "\n",
    "point1 = (3, 4, 5)\n",
    "point2 = (7, 1, 9)\n",
    "\n",
    "# Euclidean distance calculation\n",
    "distance = math.sqrt(sum((p1 - p2) ** 2 for p1, p2 in zip(point1, point2)))\n",
    "distance"
   ]
  },
  {
   "cell_type": "code",
   "execution_count": 2,
   "id": "78a5ab7d",
   "metadata": {},
   "outputs": [
    {
     "data": {
      "text/plain": [
       "[('Student3', 103, 75),\n",
       " ('Student1', 101, 80),\n",
       " ('Student4', 104, 85),\n",
       " ('Student5', 105, 90),\n",
       " ('Student2', 102, 95)]"
      ]
     },
     "execution_count": 2,
     "metadata": {},
     "output_type": "execute_result"
    }
   ],
   "source": [
    "\n",
    "names = [f\"Student{i}\" for i in range(1, 6)]\n",
    "roll_numbers = [101, 102, 103, 104, 105]\n",
    "marks = [80, 95, 75, 85, 90]\n",
    "\n",
    "student_details = sorted(list(zip(names, roll_numbers, marks)), key=lambda x: x[2])\n",
    "student_details"
   ]
  },
  {
   "cell_type": "code",
   "execution_count": 1,
   "id": "3c87e318",
   "metadata": {},
   "outputs": [
    {
     "name": "stdout",
     "output_type": "stream",
     "text": [
      "The line is vertical, and the equation is: x = 12\n"
     ]
    }
   ],
   "source": [
    "# Input two points from the user using list comprehension\n",
    "x1, y1 = [int(i) for i in input(\"Enter coordinates of first point (x1 y1): \").split()]\n",
    "x2, y2 = [int(i) for i in input(\"Enter coordinates of second point (x2 y2): \").split()]\n",
    "\n",
    "# Check if the points are distinct\n",
    "if x1 == x2 and y1 == y2:\n",
    "    print(\"The two points are identical, so a line cannot be formed.\")\n",
    "else:\n",
    "    # Calculate slope\n",
    "    if y1 != y2:\n",
    "        slope = (x1 - x2) / (y1 - y2)\n",
    "        print(f\"The equation of the line is: (x - {x1}) = {slope}(y - {y1})\")\n",
    "    else:\n",
    "        print(f\"The line is vertical, and the equation is: x = {x1}\")\n"
   ]
  },
  {
   "cell_type": "code",
   "execution_count": 2,
   "id": "9b490397",
   "metadata": {},
   "outputs": [
    {
     "name": "stdout",
     "output_type": "stream",
     "text": [
      "Character counts:\n",
      "'a': 3\n",
      "'s': 2\n",
      "'d': 2\n",
      "'f': 2\n"
     ]
    }
   ],
   "source": [
    "# Function to count characters in a string\n",
    "def count_characters(s):\n",
    "    # Initialize an empty dictionary\n",
    "    char_count = {}\n",
    "\n",
    "    # Iterate over each character in the string\n",
    "    for char in s:\n",
    "        # If the character is already in the dictionary, increment its count\n",
    "        if char in char_count:\n",
    "            char_count[char] += 1\n",
    "        else:\n",
    "            # Otherwise, add the character to the dictionary with a count of 1\n",
    "            char_count[char] = 1\n",
    "\n",
    "    return char_count\n",
    "\n",
    "# Input from the user\n",
    "input_string = input(\"Enter a string: \")\n",
    "\n",
    "# Get the character count dictionary\n",
    "char_count_dict = count_characters(input_string)\n",
    "\n",
    "# Print the dictionary\n",
    "print(\"Character counts:\")\n",
    "for char, count in char_count_dict.items():\n",
    "    print(f\"'{char}': {count}\")\n"
   ]
  },
  {
   "cell_type": "code",
   "execution_count": 2,
   "id": "5e1e0d11",
   "metadata": {},
   "outputs": [
    {
     "name": "stdout",
     "output_type": "stream",
     "text": [
      "\n",
      "List of tuples (using zip): [('ALice', 12, 32), ('Bob', 13, 43), ('Rob', 14, 25)]\n",
      "List of tuples (without zip): [('ALice', 12, 32), ('Bob', 13, 43), ('Rob', 14, 25)]\n",
      "\n",
      "Sorted list of tuples (using sorted): [('ALice', 12, 32), ('Bob', 13, 43), ('Rob', 14, 25)]\n",
      "Sorted list of tuples (without sorted): [('ALice', 12, 32), ('Bob', 13, 43), ('Rob', 14, 25)]\n"
     ]
    }
   ],
   "source": [
    "# Input the lists using list comprehension\n",
    "customer_names = [input(\"Enter customer name: \") for _ in range(3)]\n",
    "customer_ids = [int(input(\"Enter customer ID: \")) for _ in range(3)]\n",
    "shopping_points = [int(input(\"Enter shopping points: \")) for _ in range(3)]\n",
    "\n",
    "# Method 1: Construct list of tuples using zip()\n",
    "customers_zip = list(zip(customer_names, customer_ids, shopping_points))\n",
    "\n",
    "# Method 2: Construct list of tuples without using zip()\n",
    "customers_manual = [(customer_names[i], customer_ids[i], shopping_points[i]) for i in range(3)]\n",
    "\n",
    "print(\"\\nList of tuples (using zip):\", customers_zip)\n",
    "print(\"List of tuples (without zip):\", customers_manual)\n",
    "\n",
    "# Method 1: Sorting the list of tuples using sorted() function\n",
    "sorted_customers_zip = sorted(customers_zip, key=lambda x: x[1])  # Sorting by customer ID\n",
    "print(\"\\nSorted list of tuples (using sorted):\", sorted_customers_zip)\n",
    "\n",
    "# Method 2: Sorting the list of tuples without using sorted()\n",
    "def manual_sort(customers):\n",
    "    n = len(customers)\n",
    "    for i in range(n):\n",
    "        for j in range(0, n-i-1):\n",
    "            if customers[j][1] > customers[j+1][1]:  # Sort based on customer ID\n",
    "                customers[j], customers[j+1] = customers[j+1], customers[j]\n",
    "    return customers\n",
    "\n",
    "sorted_customers_manual = manual_sort(customers_manual.copy())  # Make a copy to avoid in-place sorting\n",
    "\n",
    "print(\"Sorted list of tuples (without sorted):\", sorted_customers_manual)\n"
   ]
  },
  {
   "cell_type": "code",
   "execution_count": 3,
   "id": "3b1a0751",
   "metadata": {},
   "outputs": [
    {
     "data": {
      "text/plain": [
       "[('Student3', 103, 75),\n",
       " ('Student1', 101, 80),\n",
       " ('Student4', 104, 85),\n",
       " ('Student5', 105, 90),\n",
       " ('Student2', 102, 95)]"
      ]
     },
     "execution_count": 3,
     "metadata": {},
     "output_type": "execute_result"
    }
   ],
   "source": [
    "\n",
    "student_details_manual = []\n",
    "for i in range(len(names)):\n",
    "    student_details_manual.append((names[i], roll_numbers[i], marks[i]))\n",
    "\n",
    "for i in range(len(student_details_manual)):\n",
    "    for j in range(i + 1, len(student_details_manual)):\n",
    "        if student_details_manual[i][2] > student_details_manual[j][2]:\n",
    "            student_details_manual[i], student_details_manual[j] = student_details_manual[j], student_details_manual[i]\n",
    "student_details_manual"
   ]
  },
  {
   "cell_type": "code",
   "execution_count": 4,
   "id": "74f04801",
   "metadata": {},
   "outputs": [
    {
     "data": {
      "text/plain": [
       "{'h': 1, 'e': 1, 'l': 3, 'o': 2, ' ': 1, 'w': 1, 'r': 1, 'd': 1}"
      ]
     },
     "execution_count": 4,
     "metadata": {},
     "output_type": "execute_result"
    }
   ],
   "source": [
    "\n",
    "from collections import Counter\n",
    "\n",
    "input_string = \"hello world\"\n",
    "letter_count = dict(Counter(input_string))\n",
    "letter_count"
   ]
  },
  {
   "cell_type": "code",
   "execution_count": 1,
   "id": "f25e0a93",
   "metadata": {},
   "outputs": [
    {
     "name": "stdout",
     "output_type": "stream",
     "text": [
      "((1, 2), (2, 3), (3, 4))\n"
     ]
    }
   ],
   "source": [
    "a = [1,2,3]\n",
    "b = [2,3,4]\n",
    "l = []\n",
    "for i in range(0,3):\n",
    "  l.append((a[i],b[i]))\n",
    "print(tuple(l))"
   ]
  }
 ],
 "metadata": {
  "kernelspec": {
   "display_name": "Python 3 (ipykernel)",
   "language": "python",
   "name": "python3"
  },
  "language_info": {
   "codemirror_mode": {
    "name": "ipython",
    "version": 3
   },
   "file_extension": ".py",
   "mimetype": "text/x-python",
   "name": "python",
   "nbconvert_exporter": "python",
   "pygments_lexer": "ipython3",
   "version": "3.11.6"
  }
 },
 "nbformat": 4,
 "nbformat_minor": 5
}
