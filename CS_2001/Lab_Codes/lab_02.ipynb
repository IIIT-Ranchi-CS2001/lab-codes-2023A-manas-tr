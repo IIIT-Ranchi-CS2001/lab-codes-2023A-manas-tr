{
 "cells": [
  {
   "cell_type": "code",
   "execution_count": 1,
   "metadata": {},
   "outputs": [],
   "source": [
    "# Manas Tripathi"
   ]
  },
  {
   "cell_type": "code",
   "execution_count": 19,
   "metadata": {},
   "outputs": [],
   "source": [
    "x,y,z = map(int,input().split())"
   ]
  },
  {
   "cell_type": "code",
   "execution_count": 20,
   "metadata": {},
   "outputs": [],
   "source": [
    "import math"
   ]
  },
  {
   "cell_type": "code",
   "execution_count": 21,
   "metadata": {},
   "outputs": [],
   "source": [
    "s = x+y+z\n",
    "Area = math.sqrt(s*(s-x)*(s-y)*(s-z))\n",
    "def angle(x,y,z):\n",
    "  return  math.degrees(math.acos(((y**2)+(z**2)-(x**2))/(2*y*z)))\n",
    "AngleA = angle(x,y,z)\n",
    "AngleB = angle(y,z,x)\n",
    "AngleC = angle(z,x,y)"
   ]
  },
  {
   "cell_type": "code",
   "execution_count": 22,
   "metadata": {},
   "outputs": [
    {
     "name": "stdout",
     "output_type": "stream",
     "text": [
      "Primeter : 30\n",
      " Area : 479.06158268013934\n",
      " Angles  : 22.61986494804042,67.38013505195957,90.0\n"
     ]
    }
   ],
   "source": [
    "print(f'Primeter : {s}\\n Area : {Area}\\n Angles  : {AngleA},{AngleB},{AngleC}')"
   ]
  }
 ],
 "metadata": {
  "kernelspec": {
   "display_name": "Python 3 (ipykernel)",
   "language": "python",
   "name": "python3"
  },
  "language_info": {
   "codemirror_mode": {
    "name": "ipython",
    "version": 3
   },
   "file_extension": ".py",
   "mimetype": "text/x-python",
   "name": "python",
   "nbconvert_exporter": "python",
   "pygments_lexer": "ipython3",
   "version": "3.11.6"
  }
 },
 "nbformat": 4,
 "nbformat_minor": 4
}
