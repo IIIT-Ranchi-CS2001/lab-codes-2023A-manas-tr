{
 "cells": [
  {
   "cell_type": "code",
   "execution_count": 2,
   "metadata": {},
   "outputs": [],
   "source": [
    "# Manas Tripathi"
   ]
  },
  {
   "cell_type": "code",
   "execution_count": 2,
   "metadata": {},
   "outputs": [
    {
     "name": "stdout",
     "output_type": "stream",
     "text": [
      "mAHA bHARAT\n"
     ]
    }
   ],
   "source": [
    "s = 'Maha Bharat'\n",
    "s2 = ''\n",
    "for i in s:\n",
    "  if i.islower():\n",
    "    s2 = s2 + i.upper()\n",
    "  else:\n",
    "    s2 = s2 + i.lower()\n",
    "print(s2)"
   ]
  },
  {
   "cell_type": "code",
   "execution_count": 4,
   "metadata": {},
   "outputs": [
    {
     "name": "stdout",
     "output_type": "stream",
     "text": [
      "Bharat\n",
      "BharatBharatBharat\n",
      "Mera Bharat\n",
      "Mera Bharat Mahan\n"
     ]
    }
   ],
   "source": [
    "sp = s.split(\" \")\n",
    "print(sp[1])\n",
    "print(sp[1]*3)\n",
    "print(\"Mera \"+sp[1])\n",
    "print(\"Mera \"+sp[1]+\" Mahan\")\n"
   ]
  },
  {
   "cell_type": "code",
   "execution_count": 5,
   "metadata": {},
   "outputs": [],
   "source": [
    "s = \"Ba Ba Black Sheep\""
   ]
  },
  {
   "cell_type": "code",
   "execution_count": 10,
   "metadata": {},
   "outputs": [
    {
     "name": "stdout",
     "output_type": "stream",
     "text": [
      "17\n",
      "14\n",
      "3\n",
      "Ta Ta Black Sheep\n"
     ]
    }
   ],
   "source": [
    "print(len(s))\n",
    "print(s.index('e'))\n",
    "print(s.count('a'))\n",
    "print(s[:6].replace(\"B\",\"T\")+s[6:])"
   ]
  },
  {
   "cell_type": "code",
   "execution_count": 12,
   "metadata": {},
   "outputs": [
    {
     "name": "stdout",
     "output_type": "stream",
     "text": [
      "palindrome\n"
     ]
    }
   ],
   "source": [
    "s = input(\"Enter the string\")\n",
    "if s == s[::-1]:\n",
    "  print(\"palindrome\")\n",
    "else:\n",
    "  print(\"Not Palindrome\")"
   ]
  },
  {
   "cell_type": "code",
   "execution_count": 1,
   "metadata": {},
   "outputs": [
    {
     "name": "stdin",
     "output_type": "stream",
     "text": [
      "Enter name:  Manas\n",
      "Enter roll no:  33\n",
      "Enter marks in maths:  28\n"
     ]
    },
    {
     "name": "stdout",
     "output_type": "stream",
     "text": [
      "Name: Manas\n",
      "Roll No: 33\n",
      "Marks: 28\n",
      "Grade: 0\n",
      "Remark: Fail\n"
     ]
    }
   ],
   "source": [
    "name = input(\"Enter name: \")\n",
    "roll_no = input(\"Enter roll no: \")\n",
    "marks = int(input(\"Enter marks in maths: \"))\n",
    "\n",
    "\n",
    "if marks >= 90:\n",
    "  grade = 10\n",
    "  remark = \"Outstanding\"\n",
    "elif marks<90 and marks>=80:\n",
    "  grade = 9\n",
    "  remark = \"Very Good\"\n",
    "elif marks<80 and marks>=70:\n",
    "  grade = 8\n",
    "  remark = \"Good\"\n",
    "elif marks<70 and marks>=60:\n",
    "  grade = 7\n",
    "  remark = \"Average\"\n",
    "elif marks<60 and marks>=50:\n",
    "  grade = 6\n",
    "  remark = \"Pass\"\n",
    "else:\n",
    "  grade = 0\n",
    "  remark = \"Fail\"\n",
    "\n",
    "print(f'Name: {name}\\nRoll No: {roll_no}\\nMarks: {marks}\\nGrade: {grade}\\nRemark: {remark}')"
   ]
  },
  {
   "cell_type": "code",
   "execution_count": 16,
   "metadata": {},
   "outputs": [
    {
     "name": "stdout",
     "output_type": "stream",
     "text": [
      "Two roots are (-2+11.135528725660043j), (-2-11.135528725660043j)\n"
     ]
    }
   ],
   "source": [
    "import math\n",
    "a,b,c = map(int,input().split())\n",
    "\n",
    "d = b**2 - 4*a*c\n",
    "if d == 0:\n",
    "  r1 = -(b/2*a)\n",
    "  r2= r1\n",
    "elif d>0:\n",
    "  r1 = (-b + math.sqrt(d))/2*a\n",
    "  r2 = (-b - math.sqrt(d))/2*a\n",
    "else:\n",
    "  real = (-b)/2*a\n",
    "  imagi = math.sqrt(-d)/2*a\n",
    "  r1 = complex(real,imagi)\n",
    "  r2 = complex(real,-imagi)\n",
    "\n",
    "print(f'Two roots are {r1}, {r2}')\n",
    "\n",
    "\n"
   ]
  }
 ],
 "metadata": {
  "kernelspec": {
   "display_name": "Python 3 (ipykernel)",
   "language": "python",
   "name": "python3"
  },
  "language_info": {
   "codemirror_mode": {
    "name": "ipython",
    "version": 3
   },
   "file_extension": ".py",
   "mimetype": "text/x-python",
   "name": "python",
   "nbconvert_exporter": "python",
   "pygments_lexer": "ipython3",
   "version": "3.11.6"
  }
 },
 "nbformat": 4,
 "nbformat_minor": 4
}
