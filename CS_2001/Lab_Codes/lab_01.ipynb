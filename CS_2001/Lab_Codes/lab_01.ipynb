{
 "cells": [
  {
   "cell_type": "code",
   "execution_count": 1,
   "metadata": {},
   "outputs": [],
   "source": [
    "# Manas Tripathi"
   ]
  },
  {
   "cell_type": "code",
   "execution_count": 1,
   "metadata": {},
   "outputs": [],
   "source": [
    "import math"
   ]
  },
  {
   "cell_type": "code",
   "execution_count": 2,
   "metadata": {},
   "outputs": [],
   "source": [
    "x,y = map(float,input().split())"
   ]
  },
  {
   "cell_type": "code",
   "execution_count": 3,
   "metadata": {},
   "outputs": [],
   "source": [
    "#Addtion\n",
    "sum = x + y\n",
    "#Subtraction\n",
    "diff = x - y\n",
    "#Multiplication\n",
    "mul = x*y\n",
    "#int Div\n",
    "intDiv = x//y\n",
    "#Division\n",
    "div = x/y\n",
    "\n",
    "#Sine Cosine\n",
    "sine =  math.sin(12)\n",
    "cosine = math.cos(12)\n"
   ]
  },
  {
   "cell_type": "code",
   "execution_count": 4,
   "metadata": {},
   "outputs": [
    {
     "name": "stdout",
     "output_type": "stream",
     "text": [
      "Sum = 25.0 \n",
      "Subtraction = -1.0\n",
      "Multiplication = 156.0\n",
      "Integer Division = 0.0\n",
      "Division = 0.9230769230769231\n",
      "Sine = -0.5365729180004349\n",
      "Cosine = 0.8438539587324921\n"
     ]
    }
   ],
   "source": [
    "print(f'Sum = {sum} \\nSubtraction = {diff}\\nMultiplication = {mul}\\nInteger Division = {intDiv}\\nDivision = {div}\\nSine = {sine}\\nCosine = {cosine}')"
   ]
  },
  {
   "cell_type": "code",
   "execution_count": null,
   "metadata": {},
   "outputs": [],
   "source": []
  }
 ],
 "metadata": {
  "kernelspec": {
   "display_name": "Python 3 (ipykernel)",
   "language": "python",
   "name": "python3"
  },
  "language_info": {
   "codemirror_mode": {
    "name": "ipython",
    "version": 3
   },
   "file_extension": ".py",
   "mimetype": "text/x-python",
   "name": "python",
   "nbconvert_exporter": "python",
   "pygments_lexer": "ipython3",
   "version": "3.11.6"
  }
 },
 "nbformat": 4,
 "nbformat_minor": 4
}
