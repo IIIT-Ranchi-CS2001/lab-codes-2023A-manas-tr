{
 "cells": [
  {
   "cell_type": "code",
   "execution_count": 4,
   "id": "f23ea93b-8e96-49be-9a55-18039932a52c",
   "metadata": {},
   "outputs": [],
   "source": [
    "# Manas Tripathi"
   ]
  },
  {
   "cell_type": "code",
   "execution_count": 3,
   "id": "3ea89a80",
   "metadata": {},
   "outputs": [
    {
     "name": "stdout",
     "output_type": "stream",
     "text": [
      "2\n"
     ]
    }
   ],
   "source": [
    "sentence = input()\n",
    "count = 0\n",
    "words = sentence.split()\n",
    "for word in words:\n",
    "    word = word.lower()\n",
    "    is_palindrome = True\n",
    "    for i in range(len(word) // 2):\n",
    "      if word[i] != word[len(word) - i - 1]:\n",
    "          is_palindrome = False\n",
    "          break\n",
    "    if is_palindrome:\n",
    "        count += 1\n",
    "print(count)"
   ]
  },
  {
   "cell_type": "code",
   "execution_count": 5,
   "id": "1bcb0a33",
   "metadata": {},
   "outputs": [
    {
     "name": "stdout",
     "output_type": "stream",
     "text": [
      "Mean  : 35.6  Meadian : 21   Mode : 12\n"
     ]
    }
   ],
   "source": [
    "nums = [int(i) for i in input(\"Enter space-separated integers: \").split()]\n",
    "\n",
    "    # Calculating mean\n",
    "mean = sum(nums) / len(nums)\n",
    "\n",
    "    # Calculating median\n",
    "sorted_nums = sorted(nums)\n",
    "n = len(nums)\n",
    "if n % 2 == 0:\n",
    "    median = (sorted_nums[n // 2 - 1] + sorted_nums[n // 2]) / 2\n",
    "else:\n",
    "    median = sorted_nums[n // 2]\n",
    "\n",
    "    # Calculating mode\n",
    "frequency = {}\n",
    "for num in nums:\n",
    "    if num in frequency:\n",
    "        frequency[num] += 1\n",
    "    else:\n",
    "        frequency[num] = 1\n",
    "mode = max(frequency, key=frequency.get)\n",
    "\n",
    "print(f'Mean  : {mean}  Meadian : {median}   Mode : {mode}')"
   ]
  },
  {
   "cell_type": "code",
   "execution_count": 6,
   "id": "95bea688",
   "metadata": {},
   "outputs": [
    {
     "name": "stdout",
     "output_type": "stream",
     "text": [
      "['CS1001:Python', 'CS1002:Data Structures', 'CS1003:Algorithms']\n"
     ]
    }
   ],
   "source": [
    "course_codes = ['CS1001', 'CS1002', 'CS1003']\n",
    "course_names = ['Python', 'Data Structures', 'Algorithms']\n",
    "combined_courses = [f\"{code}:{name}\" for code, name in zip(course_codes, course_names)]\n",
    "print(combined_courses)"
   ]
  },
  {
   "cell_type": "code",
   "execution_count": 3,
   "id": "bfac8f8c",
   "metadata": {},
   "outputs": [
    {
     "name": "stdin",
     "output_type": "stream",
     "text": [
      "Number of singers:  3\n",
      "Enter singer name:  Udit Narayan\n",
      "Enter singer name:  Pritam\n",
      "Enter singer name:  Arijit Singh\n",
      "Number of dancers:  2\n",
      "Enter dancer name:  Manas Tiwari\n",
      "Enter dancer name:  Ashutosh Mishra\n"
     ]
    },
    {
     "name": "stdout",
     "output_type": "stream",
     "text": [
      "{'all_artists': {'Manas Tiwari', 'Ashutosh Mishra', 'Pritam', 'Arijit Singh', 'Udit Narayan'}, 'allrounders': set(), 'dancers_not_singers': {'Ashutosh Mishra', 'Manas Tiwari'}, 'singers_not_dancers': {'Udit Narayan', 'Pritam', 'Arijit Singh'}, 'exclusive': {'Manas Tiwari', 'Arijit Singh', 'Ashutosh Mishra', 'Pritam', 'Udit Narayan'}}\n"
     ]
    }
   ],
   "source": [
    "singers = {input(\"Enter singer name: \") for _ in range(int(input(\"Number of singers: \")))}\n",
    "dancers = {input(\"Enter dancer name: \") for _ in range(int(input(\"Number of dancers: \")))}\n",
    "\n",
    "all_artists = singers | dancers\n",
    "\n",
    "allrounders = singers & dancers\n",
    "dancers_not_singers = dancers - singers\n",
    "\n",
    "singers_not_dancers = singers - dancers\n",
    "\n",
    "exclusive = singers ^ dancers\n",
    "\n",
    "print({\n",
    "        \"all_artists\": all_artists,\n",
    "        \"allrounders\": allrounders,\n",
    "        \"dancers_not_singers\": dancers_not_singers,\n",
    "        \"singers_not_dancers\": singers_not_dancers,\n",
    "        \"exclusive\": exclusive\n",
    "    })"
   ]
  },
  {
   "cell_type": "code",
   "execution_count": null,
   "id": "21ad9173",
   "metadata": {},
   "outputs": [],
   "source": []
  }
 ],
 "metadata": {
  "kernelspec": {
   "display_name": "Python 3 (ipykernel)",
   "language": "python",
   "name": "python3"
  },
  "language_info": {
   "codemirror_mode": {
    "name": "ipython",
    "version": 3
   },
   "file_extension": ".py",
   "mimetype": "text/x-python",
   "name": "python",
   "nbconvert_exporter": "python",
   "pygments_lexer": "ipython3",
   "version": "3.11.6"
  }
 },
 "nbformat": 4,
 "nbformat_minor": 5
}
